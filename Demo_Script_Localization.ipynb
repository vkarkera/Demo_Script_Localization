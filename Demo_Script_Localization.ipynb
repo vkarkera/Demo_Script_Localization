{
 "cells": [
  {
   "cell_type": "markdown",
   "id": "2d6aa5eb",
   "metadata": {},
   "source": [
    "## Demo Script Localization\n",
    "\n",
    "Given a demo script document, generate its localized version. The localized version is expected to satisfy following objectives:\n",
    "- Translate the language of the demo script to the language specified by the user.\n",
    "- Use names from the country specified by the user in the demo script."
   ]
  },
  {
   "cell_type": "code",
   "execution_count": 1,
   "id": "2a1e8840",
   "metadata": {},
   "outputs": [],
   "source": [
    "import streamlit as st\n",
    "import openai\n",
    "import os\n",
    "from docx import Document\n",
    "import concurrent.futures\n",
    "from dotenv import load_dotenv, find_dotenv\n",
    "_ = load_dotenv(find_dotenv()) # read local .env file\n",
    "\n",
    "openai.api_key  = os.environ['OPENAI_API_KEY']\n",
    "\n",
    "\n",
    "def localize_demo_script(input_path, target_language, target_country, target_name):\n",
    "    doc = Document(input_path)\n",
    "    paragraphs = [para.text for para in doc.paragraphs]\n",
    "\n",
    "    batch_size = 5  # Number of paragraphs to process in each batch\n",
    "    batched_paragraphs = [paragraphs[i:i+batch_size] for i in range(0, len(paragraphs), batch_size)]\n",
    "\n",
    "    translated_paragraphs = []\n",
    "    for batch in batched_paragraphs:\n",
    "        translations = generate_batch_translation(batch, target_language)\n",
    "        translated_paragraphs.extend(translations)\n",
    "\n",
    "    for i in range(len(translated_paragraphs)):\n",
    "        translated_paragraphs[i] = translated_paragraphs[i].replace(target_name, f\"{{Name from {target_country}}}\")\n",
    "\n",
    "    localized_path = f\"localized_script_{target_language}_{target_country}.docx\"\n",
    "    save_as_docx(translated_paragraphs, localized_path)\n",
    "\n",
    "    return localized_path\n"
   ]
  },
  {
   "cell_type": "code",
   "execution_count": 2,
   "id": "d4510853",
   "metadata": {},
   "outputs": [],
   "source": [
    "def generate_batch_translation(batch, target_language):\n",
    "    batch_text = \"\\n\".join(batch)\n",
    "    translation = openai.Completion.create(\n",
    "        engine=\"text-similarity-davinci-001\",\n",
    "        prompt=f\"Translate the following text to {target_language}:\\n{batch_text}\",\n",
    "        max_tokens=150 * len(batch),  # Adjust max_tokens for batch size\n",
    "        stop=None\n",
    "    )\n",
    "    return [choice.text.strip() for choice in translation.choices]"
   ]
  },
  {
   "cell_type": "code",
   "execution_count": 3,
   "id": "9d3b7678",
   "metadata": {},
   "outputs": [],
   "source": [
    "def save_as_docx(content, output_path):\n",
    "    doc = Document()\n",
    "    for para in content:\n",
    "        doc.add_paragraph(para)\n",
    "    doc.save(output_path)"
   ]
  },
  {
   "cell_type": "code",
   "execution_count": 5,
   "id": "dfdf39d8",
   "metadata": {},
   "outputs": [],
   "source": [
    "def main():\n",
    "    st.title(\"Demo Script Localization\")\n",
    "\n",
    "    uploaded_file = st.file_uploader(\"Upload the demo script (DOCX file)\", type=[\"docx\"])\n",
    "    target_language = st.text_input(\"Target Language (e.g., Spanish)\")\n",
    "    target_country = st.text_input(\"Target Country (e.g., India)\")\n",
    "    target_name = st.text_input(f\"Name from {target_country} (e.g., Rahul Sharma)\")\n",
    "\n",
    "    if st.button(\"Localize\"):\n",
    "        if uploaded_file and target_language and target_country and target_name:\n",
    "            localized_path = localize_demo_script(uploaded_file, target_language, target_country, target_name)\n",
    "            st.success(f\"Localized script saved as: {localized_path}\")\n",
    "            st.download_button(\"Download Localized Script\", localized_path)\n",
    "\n",
    "if __name__ == \"__main__\":\n",
    "    main()"
   ]
  },
  {
   "cell_type": "code",
   "execution_count": null,
   "id": "db9dfa7a",
   "metadata": {},
   "outputs": [],
   "source": []
  }
 ],
 "metadata": {
  "kernelspec": {
   "display_name": "Python 3 (ipykernel)",
   "language": "python",
   "name": "python3"
  },
  "language_info": {
   "codemirror_mode": {
    "name": "ipython",
    "version": 3
   },
   "file_extension": ".py",
   "mimetype": "text/x-python",
   "name": "python",
   "nbconvert_exporter": "python",
   "pygments_lexer": "ipython3",
   "version": "3.9.16"
  }
 },
 "nbformat": 4,
 "nbformat_minor": 5
}
